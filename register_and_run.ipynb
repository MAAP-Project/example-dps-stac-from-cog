{
 "cells": [
  {
   "cell_type": "markdown",
   "id": "90ddb5d1",
   "metadata": {},
   "source": [
    "#### Example notebook to register the algorithm, submit the example job and monitor it. "
   ]
  },
  {
   "cell_type": "code",
   "execution_count": null,
   "id": "622d9ede-9048-442d-9d08-eda5d6fa71a4",
   "metadata": {
    "tags": []
   },
   "outputs": [],
   "source": [
    "import yaml\n",
    "from maap.maap import MAAP\n",
    "maap = MAAP()"
   ]
  },
  {
   "cell_type": "markdown",
   "id": "d1edf7f8",
   "metadata": {},
   "source": [
    "Register the algorithm"
   ]
  },
  {
   "cell_type": "code",
   "execution_count": null,
   "id": "3c837e46-207d-432a-ade7-9ab0f0b210f8",
   "metadata": {
    "tags": []
   },
   "outputs": [],
   "source": [
    "register_algo_result = maap.register_algorithm_from_yaml_file('algorithm_config.yml')"
   ]
  },
  {
   "cell_type": "markdown",
   "id": "bf14f733",
   "metadata": {},
   "source": [
    "Submit the example job"
   ]
  },
  {
   "cell_type": "code",
   "execution_count": null,
   "id": "82fec75d-a38d-4c7d-84a6-17ac99782b4a",
   "metadata": {
    "tags": []
   },
   "outputs": [],
   "source": [
    "register_job_result = maap.submitJob(**yaml.full_load(open('job_config.yml')))"
   ]
  },
  {
   "cell_type": "markdown",
   "id": "1a3942ec",
   "metadata": {},
   "source": [
    "Check the status of the job"
   ]
  },
  {
   "cell_type": "code",
   "execution_count": null,
   "id": "2b6c0c48",
   "metadata": {},
   "outputs": [],
   "source": [
    "maap.getJobStatus(register_job_result['id'])"
   ]
  }
 ],
 "metadata": {
  "kernelspec": {
   "display_name": "Python 3 (ipykernel)",
   "language": "python",
   "name": "python3"
  },
  "language_info": {
   "codemirror_mode": {
    "name": "ipython",
    "version": 3
   },
   "file_extension": ".py",
   "mimetype": "text/x-python",
   "name": "python",
   "nbconvert_exporter": "python",
   "pygments_lexer": "ipython3",
   "version": "3.10.12"
  }
 },
 "nbformat": 4,
 "nbformat_minor": 5
}
