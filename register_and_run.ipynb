{
 "cells": [
  {
   "cell_type": "markdown",
   "id": "90ddb5d1",
   "metadata": {},
   "source": [
    "#### Example notebook to register the algorithm, submit the example job and monitor it. "
   ]
  },
  {
   "cell_type": "code",
   "execution_count": null,
   "id": "622d9ede-9048-442d-9d08-eda5d6fa71a4",
   "metadata": {
    "tags": []
   },
   "outputs": [],
   "source": [
    "import yaml\n",
    "from maap.maap import MAAP\n",
    "maap = MAAP()"
   ]
  },
  {
   "cell_type": "markdown",
   "id": "d1edf7f8",
   "metadata": {},
   "source": [
    "Register the algorithm"
   ]
  },
  {
   "cell_type": "code",
   "execution_count": null,
   "id": "3c837e46-207d-432a-ade7-9ab0f0b210f8",
   "metadata": {
    "tags": []
   },
   "outputs": [],
   "source": [
    "register_algo_result = maap.register_algorithm_from_yaml_file('algorithm_config.yml')"
   ]
  },
  {
   "cell_type": "code",
   "execution_count": null,
   "id": "b11ecf20-7571-40bb-84fe-5858c8e99a4a",
   "metadata": {
    "tags": []
   },
   "outputs": [],
   "source": [
    "register_algo_result.content"
   ]
  },
  {
   "cell_type": "markdown",
   "id": "bf14f733",
   "metadata": {},
   "source": [
    "Submit the example job"
   ]
  },
  {
   "cell_type": "code",
   "execution_count": null,
   "id": "6871d47c-fe9f-43b4-9d6e-a1cb91b92834",
   "metadata": {
    "tags": []
   },
   "outputs": [],
   "source": [
    "scenes = yaml.full_load(open('scenes.yml'))"
   ]
  },
  {
   "cell_type": "code",
   "execution_count": null,
   "id": "d166d22f-0e75-467a-b281-66f17cd4a338",
   "metadata": {
    "tags": []
   },
   "outputs": [],
   "source": [
    "job_config = yaml.full_load(open('job_config.yml'))"
   ]
  },
  {
   "cell_type": "code",
   "execution_count": null,
   "id": "b0a636f8-223c-4934-898e-547f59696a1f",
   "metadata": {
    "tags": []
   },
   "outputs": [],
   "source": [
    "job_config"
   ]
  },
  {
   "cell_type": "code",
   "execution_count": null,
   "id": "106d5b43-cf87-44d6-b71e-30a34f0c5454",
   "metadata": {
    "tags": []
   },
   "outputs": [],
   "source": [
    "scenes"
   ]
  },
  {
   "cell_type": "code",
   "execution_count": null,
   "id": "9a1033fc-29cb-4411-b233-c028a5c10d8e",
   "metadata": {},
   "outputs": [],
   "source": [
    "jobs = []"
   ]
  },
  {
   "cell_type": "code",
   "execution_count": null,
   "id": "82fec75d-a38d-4c7d-84a6-17ac99782b4a",
   "metadata": {
    "tags": []
   },
   "outputs": [],
   "source": [
    "for s in scenes:\n",
    "    jobs.append(maap.submitJob(dict(s3_path=s, **job_config)))"
   ]
  },
  {
   "cell_type": "code",
   "execution_count": null,
   "id": "788653a6-326d-4dd5-b32a-c3be39231b07",
   "metadata": {},
   "outputs": [],
   "source": []
  }
 ],
 "metadata": {
  "kernelspec": {
   "display_name": "Python 3 (ipykernel)",
   "language": "python",
   "name": "python3"
  },
  "language_info": {
   "codemirror_mode": {
    "name": "ipython",
    "version": 3
   },
   "file_extension": ".py",
   "mimetype": "text/x-python",
   "name": "python",
   "nbconvert_exporter": "python",
   "pygments_lexer": "ipython3",
   "version": "3.10.13"
  }
 },
 "nbformat": 4,
 "nbformat_minor": 5
}
